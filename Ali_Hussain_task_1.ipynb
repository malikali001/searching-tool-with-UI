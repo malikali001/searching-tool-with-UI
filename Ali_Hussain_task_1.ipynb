{
 "cells": [
  {
   "cell_type": "code",
   "execution_count": 7,
   "id": "b8c1d904-17f8-45f7-ac58-67d37c575c73",
   "metadata": {},
   "outputs": [
    {
     "data": {
      "application/vnd.jupyter.widget-view+json": {
       "model_id": "803e2bf61ed84672a5d3807b7a0376dd",
       "version_major": 2,
       "version_minor": 0
      },
      "text/plain": [
       "Text(value='', description='Search:', placeholder='Enter facility to search')"
      ]
     },
     "metadata": {},
     "output_type": "display_data"
    },
    {
     "data": {
      "application/vnd.jupyter.widget-view+json": {
       "model_id": "54b8a9a533884eeda1ada933484f8afa",
       "version_major": 2,
       "version_minor": 0
      },
      "text/plain": [
       "Dropdown(description='Select Facility:', disabled=True, options=(), value=None)"
      ]
     },
     "metadata": {},
     "output_type": "display_data"
    },
    {
     "data": {
      "application/vnd.jupyter.widget-view+json": {
       "model_id": "e609b89652344c129f4ace55b4b95aab",
       "version_major": 2,
       "version_minor": 0
      },
      "text/plain": [
       "Button(button_style='success', description='Confirm Selection', disabled=True, style=ButtonStyle())"
      ]
     },
     "metadata": {},
     "output_type": "display_data"
    },
    {
     "data": {
      "application/vnd.jupyter.widget-view+json": {
       "model_id": "204464e6939d431c8a5ae7bd30b85578",
       "version_major": 2,
       "version_minor": 0
      },
      "text/plain": [
       "Output()"
      ]
     },
     "metadata": {},
     "output_type": "display_data"
    }
   ],
   "source": [
    "import json\n",
    "import ipywidgets as widgets\n",
    "from IPython.display import display\n",
    "\n",
    "with open('facilities.json', 'r') as file:\n",
    "    data = json.load(file)\n",
    "\n",
    "search_box = widgets.Text(\n",
    "    value='',\n",
    "    placeholder='Enter facility to search',\n",
    "    description='Search:',\n",
    "    disabled=False\n",
    ")\n",
    "\n",
    "output_area = widgets.Output()\n",
    "\n",
    "dropdown = widgets.Dropdown(\n",
    "    options=[],\n",
    "    description='Select Facility:',\n",
    "    disabled=True\n",
    ")\n",
    "\n",
    "confirm_button = widgets.Button(\n",
    "    description='Confirm Selection',\n",
    "    disabled=True,\n",
    "    button_style='success'\n",
    ")\n",
    "\n",
    "def search_facilities(change):\n",
    "    search_text = search_box.value\n",
    "    output_area.clear_output()\n",
    "    \n",
    "    if search_text:\n",
    "        matching_facilities = [(item['facility'], item['Id']) for item in data if search_text.lower() in item['facility'].lower()]\n",
    "        \n",
    "        if matching_facilities:\n",
    "            dropdown.options = [facility[0] for facility in matching_facilities]\n",
    "            dropdown.disabled = False\n",
    "            confirm_button.disabled = False\n",
    "            with output_area:\n",
    "                print(f\"Found {len(matching_facilities)} matching facilities.\")\n",
    "        else:\n",
    "            dropdown.options = []\n",
    "            dropdown.disabled = True\n",
    "            confirm_button.disabled = True\n",
    "            with output_area:\n",
    "                print(\"No facilities found!\")\n",
    "    else:\n",
    "        with output_area:\n",
    "            print(\"Please enter a search term.\")\n",
    "\n",
    "def confirm_selection(b):\n",
    "    selected_facility = dropdown.value\n",
    "    facility_id = next(item['Id'] for item in data if item['facility'] == selected_facility)\n",
    "    with output_area:\n",
    "        print(f\"Selected Facility ID: {facility_id}\")\n",
    "\n",
    "search_box.observe(search_facilities, names='value')\n",
    "confirm_button.on_click(confirm_selection)\n",
    "\n",
    "display(search_box, dropdown, confirm_button, output_area)\n"
   ]
  }
 ],
 "metadata": {
  "kernelspec": {
   "display_name": "Python 3 (ipykernel)",
   "language": "python",
   "name": "python3"
  },
  "language_info": {
   "codemirror_mode": {
    "name": "ipython",
    "version": 3
   },
   "file_extension": ".py",
   "mimetype": "text/x-python",
   "name": "python",
   "nbconvert_exporter": "python",
   "pygments_lexer": "ipython3",
   "version": "3.12.0"
  }
 },
 "nbformat": 4,
 "nbformat_minor": 5
}
